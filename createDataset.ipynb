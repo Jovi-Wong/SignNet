{
 "cells": [
  {
   "cell_type": "markdown",
   "id": "4e977712",
   "metadata": {},
   "source": [
    "## import necessary modules"
   ]
  },
  {
   "cell_type": "code",
   "execution_count": 238,
   "id": "b484bf12",
   "metadata": {},
   "outputs": [],
   "source": [
    "import torch\n",
    "import dgl\n",
    "from dgl.data import DGLDataset\n",
    "import h5py\n",
    "import numpy as np\n",
    "import os\n",
    "from dgl import save_graphs, load_graphs\n",
    "from dgl.data.utils import save_info"
   ]
  },
  {
   "cell_type": "markdown",
   "id": "2afdf552",
   "metadata": {},
   "source": [
    "## construct dataset class to store graph dataset"
   ]
  },
  {
   "cell_type": "code",
   "execution_count": 239,
   "id": "b195bd50",
   "metadata": {},
   "outputs": [],
   "source": [
    "class SignNet(DGLDataset):\n",
    "    def __init__(self, file_name:str, dataset_path:str, train_ratio:float=0.7, mode:str=\"read\", save_dir:str=\"\")->None: \n",
    "        self.train_ratio = train_ratio\n",
    "        self.mode = mode\n",
    "        super().__init__(name=file_name, raw_dir=dataset_path, save_dir=save_dir)\n",
    "    \n",
    "    def process(self) -> None:\n",
    "        # read data from file to generate Dataset\n",
    "        np_data = np.transpose(np.array(h5py.File(name=self.raw_path)[\"Gwl_ud\"])).astype(np.byte)\n",
    "        torch_data = torch.from_numpy(np_data).type(torch.int8) # transform array into tensor\n",
    "        del np_data \n",
    "        src, dst = torch.nonzero(torch_data, as_tuple=True)\n",
    "        self.graph = dgl.graph((src,dst), num_nodes=torch_data.shape[0])\n",
    "        self.graph.edata[\"sign\"] = torch_data[src,dst]\n",
    "        self.graph.ndata[\"conn\"] = torch_data\n",
    "\n",
    "        # divide dataset into training, validation and testing class\n",
    "        num_of_train_nodes = int(self.train_ratio * torch_data.shape[0])\n",
    "        num_of_val_nodes = int((torch_data.shape[0] - num_of_train_nodes)/2)\n",
    "        \n",
    "        train_mask = torch.zeros(torch_data.shape[0], dtype=torch.bool)\n",
    "        val_mask = torch.zeros(torch_data.shape[0], dtype=torch.bool)\n",
    "        test_mask = torch.zeros(torch_data.shape[0], dtype=torch.bool)\n",
    "\n",
    "        train_mask[:num_of_train_nodes] = True\n",
    "        val_mask[num_of_train_nodes:num_of_train_nodes+num_of_val_nodes] = True\n",
    "        test_mask[num_of_train_nodes+num_of_val_nodes:] = True\n",
    "\n",
    "        # save mask as attribute in dataset\n",
    "        self.graph.ndata[\"train_mask\"] = train_mask\n",
    "        self.graph.ndata[\"val_mask\"] = val_mask\n",
    "        self.graph.ndata[\"test_mask\"] = test_mask\n",
    "\n",
    "    def __getitem__(self, idx)->None:\n",
    "        #return self.graph.srcdata[idx]\n",
    "        return self.graph.ndata[\"conn\"][idx]\n",
    "    \n",
    "    def __len__(self)-> None:\n",
    "        return 1\n",
    "        # return self.graph.num_nodes()\n",
    "\n",
    "    def save(self)->None:\n",
    "        # save graph\n",
    "        graph_path = os.path.join(self.save_path[:-4], self.name[0:-7] + '_dgl_graph.bin')\n",
    "        save_graphs(graph_path, self.graph)\n",
    "        \n",
    "        # save graph infomation\n",
    "        info_path = os.path.join(self.save_path[:-4], self.name[0:-7] + '_info.pkl')\n",
    "        save_info(info_path, {'graph_type': \"directed signed network\"})\n",
    "\n",
    "    def load(self)->None:\n",
    "        # load processed data from directory `self.save_path`\n",
    "        graph_path = os.path.join(self.save_path[:-4], self._name[0:-7] + '_dgl_graph.bin')\n",
    "        graphs, _ = load_graphs(graph_path)\n",
    "        self.graph = graphs[0]\n",
    "\n",
    "    def has_cache(self)->bool:\n",
    "        # check whether there are processed data in `self.save_path`\n",
    "        graph_path = os.path.join(self.save_path[:-4], self._name[0:-7] + '_dgl_graph.bin')\n",
    "        return os.path.exists(graph_path)"
   ]
  },
  {
   "cell_type": "markdown",
   "id": "9b65c052",
   "metadata": {},
   "source": [
    "## test dataset SignNet"
   ]
  },
  {
   "cell_type": "code",
   "execution_count": 1,
   "id": "fd28275a",
   "metadata": {},
   "outputs": [
    {
     "ename": "NameError",
     "evalue": "name 'SignNet' is not defined",
     "output_type": "error",
     "traceback": [
      "\u001b[1;31m---------------------------------------------------------------------------\u001b[0m",
      "\u001b[1;31mNameError\u001b[0m                                 Traceback (most recent call last)",
      "\u001b[1;32m~\\AppData\\Local\\Temp/ipykernel_11084/3521359066.py\u001b[0m in \u001b[0;36m<module>\u001b[1;34m\u001b[0m\n\u001b[0;32m      1\u001b[0m \u001b[1;32mif\u001b[0m \u001b[0m__name__\u001b[0m \u001b[1;33m==\u001b[0m \u001b[1;34m\"__main__\"\u001b[0m\u001b[1;33m:\u001b[0m\u001b[1;33m\u001b[0m\u001b[1;33m\u001b[0m\u001b[0m\n\u001b[1;32m----> 2\u001b[1;33m     \u001b[0mepinions\u001b[0m \u001b[1;33m=\u001b[0m \u001b[0mSignNet\u001b[0m\u001b[1;33m(\u001b[0m\u001b[0mfile_name\u001b[0m\u001b[1;33m=\u001b[0m\u001b[1;34m\"epinions_UD.mat\"\u001b[0m\u001b[1;33m,\u001b[0m \u001b[0mdataset_path\u001b[0m\u001b[1;33m=\u001b[0m\u001b[1;34m\"dataset\"\u001b[0m\u001b[1;33m,\u001b[0m \u001b[0msave_dir\u001b[0m\u001b[1;33m=\u001b[0m\u001b[1;34m\"dataset_cache\"\u001b[0m\u001b[1;33m,\u001b[0m \u001b[0mtrain_ratio\u001b[0m\u001b[1;33m=\u001b[0m\u001b[1;36m0.6\u001b[0m\u001b[1;33m)\u001b[0m\u001b[1;33m\u001b[0m\u001b[1;33m\u001b[0m\u001b[0m\n\u001b[0m\u001b[0;32m      3\u001b[0m     \u001b[0mslashdot\u001b[0m \u001b[1;33m=\u001b[0m \u001b[0mSignNet\u001b[0m\u001b[1;33m(\u001b[0m\u001b[0mfile_name\u001b[0m\u001b[1;33m=\u001b[0m\u001b[1;34m\"slashdot_UD.mat\"\u001b[0m\u001b[1;33m,\u001b[0m \u001b[0mdataset_path\u001b[0m\u001b[1;33m=\u001b[0m\u001b[1;34m\"dataset\"\u001b[0m\u001b[1;33m,\u001b[0m \u001b[0msave_dir\u001b[0m\u001b[1;33m=\u001b[0m\u001b[1;34m\"dataset_cache\"\u001b[0m\u001b[1;33m,\u001b[0m \u001b[0mtrain_ratio\u001b[0m\u001b[1;33m=\u001b[0m\u001b[1;36m0.6\u001b[0m\u001b[1;33m)\u001b[0m\u001b[1;33m\u001b[0m\u001b[1;33m\u001b[0m\u001b[0m\n\u001b[0;32m      4\u001b[0m     \u001b[0mwiki\u001b[0m \u001b[1;33m=\u001b[0m \u001b[0mSignNet\u001b[0m\u001b[1;33m(\u001b[0m\u001b[0mfile_name\u001b[0m\u001b[1;33m=\u001b[0m\u001b[1;34m\"wiki_UD.mat\"\u001b[0m\u001b[1;33m,\u001b[0m \u001b[0mdataset_path\u001b[0m\u001b[1;33m=\u001b[0m\u001b[1;34m\"dataset\"\u001b[0m\u001b[1;33m,\u001b[0m \u001b[0msave_dir\u001b[0m\u001b[1;33m=\u001b[0m\u001b[1;34m\"dataset_cache\"\u001b[0m\u001b[1;33m,\u001b[0m \u001b[0mtrain_ratio\u001b[0m\u001b[1;33m=\u001b[0m\u001b[1;36m0.6\u001b[0m\u001b[1;33m)\u001b[0m\u001b[1;33m\u001b[0m\u001b[1;33m\u001b[0m\u001b[0m\n",
      "\u001b[1;31mNameError\u001b[0m: name 'SignNet' is not defined"
     ]
    }
   ],
   "source": [
    "if __name__ == \"__main__\":\n",
    "    epinions = SignNet(file_name=\"epinions_UD.mat\", dataset_path=\"dataset\", save_dir=\"dataset_cache\", train_ratio=0.6)\n",
    "    slashdot = SignNet(file_name=\"slashdot_UD.mat\", dataset_path=\"dataset\", save_dir=\"dataset_cache\", train_ratio=0.6)\n",
    "    wiki = SignNet(file_name=\"wiki_UD.mat\", dataset_path=\"dataset\", save_dir=\"dataset_cache\", train_ratio=0.6)"
   ]
  },
  {
   "cell_type": "markdown",
   "id": "d9457470",
   "metadata": {},
   "source": []
  }
 ],
 "metadata": {
  "kernelspec": {
   "display_name": "Python 3 (ipykernel)",
   "language": "python",
   "name": "python3"
  },
  "language_info": {
   "codemirror_mode": {
    "name": "ipython",
    "version": 3
   },
   "file_extension": ".py",
   "mimetype": "text/x-python",
   "name": "python",
   "nbconvert_exporter": "python",
   "pygments_lexer": "ipython3",
   "version": "3.9.7"
  }
 },
 "nbformat": 4,
 "nbformat_minor": 5
}
